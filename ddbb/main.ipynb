{
 "cells": [
  {
   "cell_type": "markdown",
   "id": "5dcaf3a3",
   "metadata": {},
   "source": [
    "# Proyecto Final\n",
    "Nuestra empresa de video juegos nos solicita crear una aplicación para gestionar los mensajes obtenidos de los\n",
    "diferentes juegos en diversas redes sociales."
   ]
  },
  {
   "cell_type": "markdown",
   "id": "5cd76bf1",
   "metadata": {},
   "source": [
    "## Construir una interfaz de usuario que permita:"
   ]
  },
  {
   "cell_type": "markdown",
   "id": "94c83e3f",
   "metadata": {},
   "source": [
    "### Realizar la cargar inicial de los datos de los juegos y plataformas, utilizando el fichero metacritic_game_info.csv."
   ]
  },
  {
   "cell_type": "code",
   "execution_count": null,
   "id": "296271c1",
   "metadata": {},
   "outputs": [],
   "source": [
    "#Importación de librerías y los módulos creados\n",
    "%matplotlib inline\n",
    "from cargar_datos import cargar_datos_ddbb as db\n",
    "from procesar_mensajes import procesar_csv as csv\n",
    "from procesar_mensajes import procesar_json as js\n",
    "from procesar_mensajes import procesar_html as ht\n",
    "from consultas_ddbb import consultas as c"
   ]
  },
  {
   "cell_type": "code",
   "execution_count": null,
   "id": "9fa18f42",
   "metadata": {},
   "outputs": [],
   "source": [
    "#Establecer conexión a la ddbb\n",
    "con = db.sql_connection('ddbb/videojuegos.db')"
   ]
  },
  {
   "cell_type": "code",
   "execution_count": null,
   "id": "2bd309b2",
   "metadata": {},
   "outputs": [],
   "source": [
    "#Indicamos el nombre del archivo csv\n",
    "csv_file = 'data/metacritic_game_info.csv'\n",
    "\n",
    "#Cargamos los datos de videojuegos y plataformas\n",
    "csv.cargar_videojuegos(con, csv_file)"
   ]
  },
  {
   "cell_type": "markdown",
   "id": "b9490909",
   "metadata": {},
   "source": [
    "### Cargar comentarios desde Metacritic"
   ]
  },
  {
   "cell_type": "code",
   "execution_count": null,
   "id": "daa7e498",
   "metadata": {},
   "outputs": [],
   "source": [
    "#Escogemos un listado de juegos para cargar sus comentarios a la ddbb\n",
    "lista_juegos_mc = [\"God of War III Remastered\",\n",
    "             \"Super Mario Galaxy\", \n",
    "             \"Final Fantasy IX\",\n",
    "             \"Mario Kart Super Circuit\", \n",
    "             \"Star Wars: Knights of the Old Republic\"]"
   ]
  },
  {
   "cell_type": "code",
   "execution_count": null,
   "id": "4fbb6e25",
   "metadata": {},
   "outputs": [],
   "source": [
    "#Indicamos el archivo csv\n",
    "csv_file = 'data/metacritic_game_user_comments.csv'\n",
    "#Cargamos los comentarios\n",
    "for juego in lista_juegos_mc:\n",
    "    a = csv.procesar_mensajes(con,csv_file, juego)\n",
    "    print(a,'\\n')"
   ]
  },
  {
   "cell_type": "markdown",
   "id": "97e87819",
   "metadata": {},
   "source": [
    "### Cargar juegos y comentarios desde PlayStore"
   ]
  },
  {
   "cell_type": "code",
   "execution_count": null,
   "id": "4523a629",
   "metadata": {},
   "outputs": [],
   "source": [
    "#Escogemos un listado de juegos con sus comentarios para cargar a la ddbb \n",
    "lista_juegos_ps =[\"com.fansipan.stickman.shadow.knights.fightinggames\",\n",
    "                    \"com.zitga.cyberfighters.shadow.hunter.legends\",\n",
    "                    \"com.unimob.stickman.master.shadow.premium\"]"
   ]
  },
  {
   "cell_type": "code",
   "execution_count": null,
   "id": "6bb8d64f",
   "metadata": {},
   "outputs": [],
   "source": [
    "#Indicamos el nombre del archivo json\n",
    "json_file = 'data/PlayStoreGameAppInfoReview.json'\n",
    "\n",
    "#Cargamos los comentarios\n",
    "for juego in lista_juegos_ps:\n",
    "    a = js.procesar_mensajes(con, json_file, juego)\n",
    "    print(a,'\\n')"
   ]
  },
  {
   "cell_type": "markdown",
   "id": "d9d94b5b",
   "metadata": {},
   "source": [
    "### Cargar juegos y comentarios desde la web 'Game.es'"
   ]
  },
  {
   "cell_type": "code",
   "execution_count": null,
   "id": "9f1b6ce7",
   "metadata": {},
   "outputs": [],
   "source": [
    "#Escogemos un listado de URLs con los juegos que deseamos cargar a la ddbb\n",
    "lista_url = ['https://www.game.es/VIDEOJUEGOS/SANDBOX/PLAYSTATION-4/GRAND-THEFT-AUTO-THE-TRILOGY-THE-DEFINITIVE-EDITION/196115',\n",
    "               'https://www.game.es/VIDEOJUEGOS/ACCION/PLAYSTATION-5/MARVELS-GUARDIANS-OF-THE-GALAXY-EDICION-COSMICA-DELUXE/189989',\n",
    "               'https://www.game.es/VIDEOJUEGOS/ROL/PLAYSTATION-4/ELDEN-RING-LAUNCH-EDITION/169134',\n",
    "               'https://www.game.es/VIDEOJUEGOS/AVENTURA/NINTENDO-SWITCH/POKEMON-DIAMANTE-BRILLANTE/187759',\n",
    "               'https://www.game.es/VIDEOJUEGOS/ACCION/XBOX-ONE/MARVELS-AVENGERS/168962',\n",
    "               'https://www.game.es/VIDEOJUEGOS/AVENTURA/NINTENDO-SWITCH/POKEMON-PERLA-RELUCIENTE/187760',\n",
    "               'https://www.game.es/VIDEOJUEGOS/AVENTURA/NINTENDO-SWITCH/LEYENDAS-POKEMON-ARCEUS/187763']"
   ]
  },
  {
   "cell_type": "code",
   "execution_count": null,
   "id": "a6a8edbe",
   "metadata": {},
   "outputs": [],
   "source": [
    "#Cargamos los juegos y sus comentarios\n",
    "for url in lista_url:\n",
    "    a = ht.procesar_mensajes_game(con, url)\n",
    "    print(a,'\\n')"
   ]
  },
  {
   "cell_type": "markdown",
   "id": "90ebedef",
   "metadata": {},
   "source": [
    "### Realizar las siguientes consultas:"
   ]
  },
  {
   "cell_type": "markdown",
   "id": "f2d4e22a",
   "metadata": {},
   "source": [
    "#### Dado un rango entre dos fechas y un texto, obtener aquellos usuarios que incluyen en sus mensajes el texto suministrado. Ordena estos usuarios por cantidad de apariciones del texto en distintos mensajes."
   ]
  },
  {
   "cell_type": "code",
   "execution_count": null,
   "id": "04d40949",
   "metadata": {},
   "outputs": [],
   "source": [
    "#Escogemos dos fechas y una palabra clave para hacer la búsqueda\n",
    "f1 = '2019-01-15'\n",
    "f2 = '2022-01-31'\n",
    "clave = 'game'"
   ]
  },
  {
   "cell_type": "code",
   "execution_count": null,
   "id": "c37b77f7",
   "metadata": {},
   "outputs": [],
   "source": [
    "#Realizamos la consulta\n",
    "datos = c.consultar_comentarios_fecha(con, clave, f1, f2)\n",
    "datos"
   ]
  },
  {
   "cell_type": "markdown",
   "id": "0c273708",
   "metadata": {},
   "source": [
    "#### Mostrar la cantidad de mensajes publicados por usuarios"
   ]
  },
  {
   "cell_type": "code",
   "execution_count": null,
   "id": "f19dbf58",
   "metadata": {},
   "outputs": [],
   "source": [
    "datos = c.consultar_comentarios_usuario(con)\n",
    "datos"
   ]
  },
  {
   "cell_type": "markdown",
   "id": "65ca9380",
   "metadata": {},
   "source": [
    "#### Dado un rango entre dos fechas, mostrar la media de mensajes diarios generados para cada red social. Mostrar los resultados de esta consulta mediante un histograma."
   ]
  },
  {
   "cell_type": "code",
   "execution_count": null,
   "id": "b21ab32a",
   "metadata": {},
   "outputs": [],
   "source": [
    "#Escogemos dos fechas para realizar la búsqueda\n",
    "f1 = '2019-01-12'\n",
    "f2 = '2022-01-31'"
   ]
  },
  {
   "cell_type": "code",
   "execution_count": null,
   "id": "bf0b5528",
   "metadata": {},
   "outputs": [],
   "source": [
    "#Realizamos la consulta\n",
    "c.consultar_comentarios_red_social_fecha(con, f1, f2)"
   ]
  },
  {
   "cell_type": "markdown",
   "id": "b1e2145e",
   "metadata": {},
   "source": [
    "#### Obtener una estadística de cuál es la red social dónde más se habla sobre un determinado tema. Dicho tema se definirá por un conjunto de palabras que pueden aparecer en los mensajes"
   ]
  },
  {
   "cell_type": "code",
   "execution_count": null,
   "id": "83742edc",
   "metadata": {},
   "outputs": [],
   "source": [
    "#Escoger tres palabras clave que respresenten el tema de interés a consultar\n",
    "palabra1 = 'mario'\n",
    "palabra2 = 'fun'\n",
    "palabra3 = 'game'"
   ]
  },
  {
   "cell_type": "code",
   "execution_count": null,
   "id": "b71170a2",
   "metadata": {},
   "outputs": [],
   "source": [
    "#Realizamos la consulta\n",
    "c.consultar_tema_red_social(con, palabra1, palabra2, palabra3)"
   ]
  }
 ],
 "metadata": {
  "kernelspec": {
   "display_name": "Python 3 (ipykernel)",
   "language": "python",
   "name": "python3"
  },
  "language_info": {
   "codemirror_mode": {
    "name": "ipython",
    "version": 3
   },
   "file_extension": ".py",
   "mimetype": "text/x-python",
   "name": "python",
   "nbconvert_exporter": "python",
   "pygments_lexer": "ipython3",
   "version": "3.8.8"
  },
  "toc": {
   "base_numbering": 1,
   "nav_menu": {},
   "number_sections": true,
   "sideBar": true,
   "skip_h1_title": false,
   "title_cell": "Table of Contents",
   "title_sidebar": "Contents",
   "toc_cell": false,
   "toc_position": {},
   "toc_section_display": true,
   "toc_window_display": false
  },
  "varInspector": {
   "cols": {
    "lenName": 16,
    "lenType": 16,
    "lenVar": 40
   },
   "kernels_config": {
    "python": {
     "delete_cmd_postfix": "",
     "delete_cmd_prefix": "del ",
     "library": "var_list.py",
     "varRefreshCmd": "print(var_dic_list())"
    },
    "r": {
     "delete_cmd_postfix": ") ",
     "delete_cmd_prefix": "rm(",
     "library": "var_list.r",
     "varRefreshCmd": "cat(var_dic_list()) "
    }
   },
   "types_to_exclude": [
    "module",
    "function",
    "builtin_function_or_method",
    "instance",
    "_Feature"
   ],
   "window_display": false
  }
 },
 "nbformat": 4,
 "nbformat_minor": 5
}
